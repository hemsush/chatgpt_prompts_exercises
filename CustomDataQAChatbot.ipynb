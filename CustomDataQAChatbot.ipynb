{
  "nbformat": 4,
  "nbformat_minor": 0,
  "metadata": {
    "colab": {
      "provenance": [],
      "authorship_tag": "ABX9TyMAwjFepWitaHadCV3Yy/Ea",
      "include_colab_link": true
    },
    "kernelspec": {
      "name": "python3",
      "display_name": "Python 3"
    },
    "language_info": {
      "name": "python"
    }
  },
  "cells": [
    {
      "cell_type": "markdown",
      "metadata": {
        "id": "view-in-github",
        "colab_type": "text"
      },
      "source": [
        "<a href=\"https://colab.research.google.com/github/hemsush/chatgpt_prompts_exercises/blob/main/CustomDataQAChatbot.ipynb\" target=\"_parent\"><img src=\"https://colab.research.google.com/assets/colab-badge.svg\" alt=\"Open In Colab\"/></a>"
      ]
    },
    {
      "cell_type": "markdown",
      "source": [
        "**QA bot on enterprise data**"
      ],
      "metadata": {
        "id": "6sm9Vb3GB28D"
      }
    },
    {
      "cell_type": "markdown",
      "source": [
        "**step 1 : Load Data from pdf**"
      ],
      "metadata": {
        "id": "KvABK1V9CJOi"
      }
    },
    {
      "cell_type": "code",
      "source": [
        "!pip install requests pymupdf\n"
      ],
      "metadata": {
        "colab": {
          "base_uri": "https://localhost:8080/"
        },
        "id": "5yf9nXbECBCy",
        "outputId": "e6c0ac66-d2ae-414a-ba9d-a4b220bb8b06"
      },
      "execution_count": 1,
      "outputs": [
        {
          "output_type": "stream",
          "name": "stdout",
          "text": [
            "Requirement already satisfied: requests in /usr/local/lib/python3.10/dist-packages (2.32.3)\n",
            "Collecting pymupdf\n",
            "  Downloading pymupdf-1.25.1-cp39-abi3-manylinux2014_x86_64.manylinux_2_17_x86_64.whl.metadata (3.4 kB)\n",
            "Requirement already satisfied: charset-normalizer<4,>=2 in /usr/local/lib/python3.10/dist-packages (from requests) (3.4.0)\n",
            "Requirement already satisfied: idna<4,>=2.5 in /usr/local/lib/python3.10/dist-packages (from requests) (3.10)\n",
            "Requirement already satisfied: urllib3<3,>=1.21.1 in /usr/local/lib/python3.10/dist-packages (from requests) (2.2.3)\n",
            "Requirement already satisfied: certifi>=2017.4.17 in /usr/local/lib/python3.10/dist-packages (from requests) (2024.12.14)\n",
            "Downloading pymupdf-1.25.1-cp39-abi3-manylinux2014_x86_64.manylinux_2_17_x86_64.whl (20.0 MB)\n",
            "\u001b[2K   \u001b[90m━━━━━━━━━━━━━━━━━━━━━━━━━━━━━━━━━━━━━━━━\u001b[0m \u001b[32m20.0/20.0 MB\u001b[0m \u001b[31m21.3 MB/s\u001b[0m eta \u001b[36m0:00:00\u001b[0m\n",
            "\u001b[?25hInstalling collected packages: pymupdf\n",
            "Successfully installed pymupdf-1.25.1\n"
          ]
        }
      ]
    },
    {
      "cell_type": "code",
      "source": [
        "import requests\n",
        "import fitz  # PyMuPDF\n",
        "\n"
      ],
      "metadata": {
        "id": "Rjpon7f9CRs2"
      },
      "execution_count": 27,
      "outputs": []
    },
    {
      "cell_type": "code",
      "source": [
        "# Function to download the PDF from URL\n",
        "def download_pdf(url, file_name):\n",
        "    response = requests.get(url)\n",
        "    response.raise_for_status()  # Check for request success\n",
        "    with open(file_name, 'wb') as f:\n",
        "        f.write(response.content)\n",
        "    print(f\"Downloaded PDF to {file_name}\")\n",
        "\n",
        "# Function to extract text from a PDF\n",
        "def extract_pdf_text(pdf_path):\n",
        "    doc = fitz.open(pdf_path)\n",
        "    text = \"\"\n",
        "\n",
        "    # Iterate through each page and extract text\n",
        "    for page_num in range(doc.page_count):\n",
        "        page = doc.load_page(page_num)\n",
        "        text += page.get_text()\n",
        "\n",
        "    return text\n",
        "\n",
        "# Function to split document into manageable chunks for in-context learning\n",
        "def split_text_into_sections(text, max_length=1500):\n",
        "    sections = []\n",
        "    lines = text.split(\"\\n\")\n",
        "    current_section = \"\"\n",
        "\n",
        "    for line in lines:\n",
        "        if len(current_section) + len(line) > max_length:\n",
        "            sections.append(current_section)\n",
        "            current_section = line\n",
        "        else:\n",
        "            current_section += \" \" + line\n",
        "\n",
        "    if current_section:\n",
        "        sections.append(current_section)\n",
        "\n",
        "    return sections\n"
      ],
      "metadata": {
        "id": "dpbFOMzPGmnQ"
      },
      "execution_count": 28,
      "outputs": []
    },
    {
      "cell_type": "markdown",
      "source": [
        "**Step 2 : configure chat completion api from open ai**"
      ],
      "metadata": {
        "id": "QcHV8WmTChOp"
      }
    },
    {
      "cell_type": "code",
      "source": [
        "!pip install openai"
      ],
      "metadata": {
        "colab": {
          "base_uri": "https://localhost:8080/"
        },
        "id": "_Qfen_xECZHB",
        "outputId": "fe05379d-df98-402e-9129-66ea25ecd3f0"
      },
      "execution_count": 3,
      "outputs": [
        {
          "output_type": "stream",
          "name": "stdout",
          "text": [
            "Requirement already satisfied: openai in /usr/local/lib/python3.10/dist-packages (1.57.4)\n",
            "Requirement already satisfied: anyio<5,>=3.5.0 in /usr/local/lib/python3.10/dist-packages (from openai) (3.7.1)\n",
            "Requirement already satisfied: distro<2,>=1.7.0 in /usr/local/lib/python3.10/dist-packages (from openai) (1.9.0)\n",
            "Requirement already satisfied: httpx<1,>=0.23.0 in /usr/local/lib/python3.10/dist-packages (from openai) (0.28.1)\n",
            "Requirement already satisfied: jiter<1,>=0.4.0 in /usr/local/lib/python3.10/dist-packages (from openai) (0.8.2)\n",
            "Requirement already satisfied: pydantic<3,>=1.9.0 in /usr/local/lib/python3.10/dist-packages (from openai) (2.10.3)\n",
            "Requirement already satisfied: sniffio in /usr/local/lib/python3.10/dist-packages (from openai) (1.3.1)\n",
            "Requirement already satisfied: tqdm>4 in /usr/local/lib/python3.10/dist-packages (from openai) (4.67.1)\n",
            "Requirement already satisfied: typing-extensions<5,>=4.11 in /usr/local/lib/python3.10/dist-packages (from openai) (4.12.2)\n",
            "Requirement already satisfied: idna>=2.8 in /usr/local/lib/python3.10/dist-packages (from anyio<5,>=3.5.0->openai) (3.10)\n",
            "Requirement already satisfied: exceptiongroup in /usr/local/lib/python3.10/dist-packages (from anyio<5,>=3.5.0->openai) (1.2.2)\n",
            "Requirement already satisfied: certifi in /usr/local/lib/python3.10/dist-packages (from httpx<1,>=0.23.0->openai) (2024.12.14)\n",
            "Requirement already satisfied: httpcore==1.* in /usr/local/lib/python3.10/dist-packages (from httpx<1,>=0.23.0->openai) (1.0.7)\n",
            "Requirement already satisfied: h11<0.15,>=0.13 in /usr/local/lib/python3.10/dist-packages (from httpcore==1.*->httpx<1,>=0.23.0->openai) (0.14.0)\n",
            "Requirement already satisfied: annotated-types>=0.6.0 in /usr/local/lib/python3.10/dist-packages (from pydantic<3,>=1.9.0->openai) (0.7.0)\n",
            "Requirement already satisfied: pydantic-core==2.27.1 in /usr/local/lib/python3.10/dist-packages (from pydantic<3,>=1.9.0->openai) (2.27.1)\n"
          ]
        }
      ]
    },
    {
      "cell_type": "code",
      "source": [
        "from openai import OpenAI"
      ],
      "metadata": {
        "id": "sz3nd_-_C4LR"
      },
      "execution_count": 4,
      "outputs": []
    },
    {
      "cell_type": "code",
      "source": [
        "from google.colab import userdata\n",
        "# Initialize the OpenAI client\n",
        "client = OpenAI(\n",
        "    api_key=userdata.get('open_api_key')\n",
        ")"
      ],
      "metadata": {
        "id": "HVAtijBIDEv9"
      },
      "execution_count": 5,
      "outputs": []
    },
    {
      "cell_type": "markdown",
      "source": [
        "**Step 3 : Incontext learning**"
      ],
      "metadata": {
        "id": "CEJ4GeuEEBht"
      }
    },
    {
      "cell_type": "code",
      "source": [
        "# Function to interact with GPT using in-context learning\n",
        "def chat_gpt_with_incontext_learning(prompt, context):\n",
        "    # Construct prompt with context and question\n",
        "    in_context_prompt = f\"Document context:\\n{context}\\n\\nQuestion: {prompt}\\nAnswer:\"\n",
        "\n",
        "    # Requesting the response from the model\n",
        "    response = client.chat.completions.create(\n",
        "        model=\"gpt-3.5-turbo\",  # You can replace this with another model such as \"gpt-4-1106-preview\"\n",
        "        messages=[\n",
        "            {\"role\": \"system\", \"content\": \"You answer questions based on the provided document context.\"},\n",
        "            {\"role\": \"user\", \"content\": in_context_prompt}\n",
        "        ],\n",
        "        temperature=0.7,  # You can adjust this for creativity\n",
        "        max_tokens=500  # Adjust as needed for the length of response\n",
        "    )\n",
        "\n",
        "    # Correctly accessing the message content as per the new format\n",
        "    response_message = response.choices[0].message.content\n",
        "    return response_message.strip()\n",
        "\n",
        "# Function to get the most relevant response based on the question and document\n",
        "def get_relevant_response(question, document_text):\n",
        "    # Split document into smaller sections for better context handling\n",
        "    sections = split_text_into_sections(document_text)\n",
        "\n",
        "    # Select the most relevant section based on the question\n",
        "    context = sections[0]  # For now, we're just using the first section\n",
        "\n",
        "    # Get response from the model using the in-context learning function\n",
        "    return chat_gpt_with_incontext_learning(question, context)\n"
      ],
      "metadata": {
        "id": "dHmeRAHGDLJK"
      },
      "execution_count": 33,
      "outputs": []
    },
    {
      "cell_type": "code",
      "source": [
        "# URL of the PDF document\n",
        "pdf_url = \"https://mf.nipponindiaim.com/FundsAndPerformance/ProductNotes/NipponIndia-Short-Term-Fund-Jan-2024.pdf\"\n",
        "pdf_file = \"NipponIndia-Short-Term-Fund-Jan-2024.pdf\"\n",
        "\n",
        "# Download the PDF\n",
        "download_pdf(pdf_url, pdf_file)\n",
        "\n",
        "# Extract text from the downloaded PDF\n",
        "pdf_text = extract_pdf_text(pdf_file)"
      ],
      "metadata": {
        "colab": {
          "base_uri": "https://localhost:8080/"
        },
        "id": "o1UEVj7-FReE",
        "outputId": "ce6f7da5-8df5-4148-f1c2-afcbe31cbeac"
      },
      "execution_count": 31,
      "outputs": [
        {
          "output_type": "stream",
          "name": "stdout",
          "text": [
            "Downloaded PDF to NipponIndia-Short-Term-Fund-Jan-2024.pdf\n"
          ]
        }
      ]
    },
    {
      "cell_type": "code",
      "source": [
        "# Sample Question\n",
        "question = \"What is the investment objective of the Nippon India Short Term Fund?\"\n",
        "\n",
        "# Get response from OpenAI using in-context learning based on the document content\n",
        "answer = get_relevant_response(question, pdf_text)\n",
        "\n",
        "print(\"Answer:\", answer)"
      ],
      "metadata": {
        "colab": {
          "base_uri": "https://localhost:8080/"
        },
        "id": "EMH-as9nEe0J",
        "outputId": "132bdeac-fabb-4ec9-9b43-048398e8f66b"
      },
      "execution_count": 34,
      "outputs": [
        {
          "output_type": "stream",
          "name": "stdout",
          "text": [
            "Answer: The investment objective of the Nippon India Short Term Fund is to generate stable returns for investors with a short-term investment horizon by investing in Debt & Money Market Instruments.\n"
          ]
        }
      ]
    }
  ]
}