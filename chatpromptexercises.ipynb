{
  "nbformat": 4,
  "nbformat_minor": 0,
  "metadata": {
    "colab": {
      "provenance": [],
      "authorship_tag": "ABX9TyMxXgd1hOhaYehYqg54/+by",
      "include_colab_link": true
    },
    "kernelspec": {
      "name": "python3",
      "display_name": "Python 3"
    },
    "language_info": {
      "name": "python"
    }
  },
  "cells": [
    {
      "cell_type": "markdown",
      "metadata": {
        "id": "view-in-github",
        "colab_type": "text"
      },
      "source": [
        "<a href=\"https://colab.research.google.com/github/hemsush/chatgpt_prompts_exercises/blob/main/chatpromptexercises.ipynb\" target=\"_parent\"><img src=\"https://colab.research.google.com/assets/colab-badge.svg\" alt=\"Open In Colab\"/></a>"
      ]
    },
    {
      "cell_type": "markdown",
      "source": [
        "**Task 1 :Classify Customer Reviews**"
      ],
      "metadata": {
        "id": "eS-bEFCGyAdH"
      }
    },
    {
      "cell_type": "code",
      "source": [
        "!pip install openai\n"
      ],
      "metadata": {
        "colab": {
          "base_uri": "https://localhost:8080/"
        },
        "id": "bVnNR3e-tjyJ",
        "outputId": "0b1de773-d356-42ff-9d98-495644e062ad"
      },
      "execution_count": 1,
      "outputs": [
        {
          "output_type": "stream",
          "name": "stdout",
          "text": [
            "Requirement already satisfied: openai in /usr/local/lib/python3.10/dist-packages (1.57.4)\n",
            "Requirement already satisfied: anyio<5,>=3.5.0 in /usr/local/lib/python3.10/dist-packages (from openai) (3.7.1)\n",
            "Requirement already satisfied: distro<2,>=1.7.0 in /usr/local/lib/python3.10/dist-packages (from openai) (1.9.0)\n",
            "Requirement already satisfied: httpx<1,>=0.23.0 in /usr/local/lib/python3.10/dist-packages (from openai) (0.28.1)\n",
            "Requirement already satisfied: jiter<1,>=0.4.0 in /usr/local/lib/python3.10/dist-packages (from openai) (0.8.2)\n",
            "Requirement already satisfied: pydantic<3,>=1.9.0 in /usr/local/lib/python3.10/dist-packages (from openai) (2.10.3)\n",
            "Requirement already satisfied: sniffio in /usr/local/lib/python3.10/dist-packages (from openai) (1.3.1)\n",
            "Requirement already satisfied: tqdm>4 in /usr/local/lib/python3.10/dist-packages (from openai) (4.67.1)\n",
            "Requirement already satisfied: typing-extensions<5,>=4.11 in /usr/local/lib/python3.10/dist-packages (from openai) (4.12.2)\n",
            "Requirement already satisfied: idna>=2.8 in /usr/local/lib/python3.10/dist-packages (from anyio<5,>=3.5.0->openai) (3.10)\n",
            "Requirement already satisfied: exceptiongroup in /usr/local/lib/python3.10/dist-packages (from anyio<5,>=3.5.0->openai) (1.2.2)\n",
            "Requirement already satisfied: certifi in /usr/local/lib/python3.10/dist-packages (from httpx<1,>=0.23.0->openai) (2024.12.14)\n",
            "Requirement already satisfied: httpcore==1.* in /usr/local/lib/python3.10/dist-packages (from httpx<1,>=0.23.0->openai) (1.0.7)\n",
            "Requirement already satisfied: h11<0.15,>=0.13 in /usr/local/lib/python3.10/dist-packages (from httpcore==1.*->httpx<1,>=0.23.0->openai) (0.14.0)\n",
            "Requirement already satisfied: annotated-types>=0.6.0 in /usr/local/lib/python3.10/dist-packages (from pydantic<3,>=1.9.0->openai) (0.7.0)\n",
            "Requirement already satisfied: pydantic-core==2.27.1 in /usr/local/lib/python3.10/dist-packages (from pydantic<3,>=1.9.0->openai) (2.27.1)\n"
          ]
        }
      ]
    },
    {
      "cell_type": "code",
      "source": [
        "from openai import OpenAI\n"
      ],
      "metadata": {
        "id": "Z0DXC_bSte5h"
      },
      "execution_count": 14,
      "outputs": []
    },
    {
      "cell_type": "code",
      "source": [
        "from google.colab import userdata\n",
        "# Initialize the OpenAI client\n",
        "client = OpenAI(\n",
        "    api_key=userdata.get('open_api_key')\n",
        ")"
      ],
      "metadata": {
        "id": "p01USWkPxpfU"
      },
      "execution_count": 15,
      "outputs": []
    },
    {
      "cell_type": "code",
      "execution_count": 16,
      "metadata": {
        "id": "hxJI1dodswW1"
      },
      "outputs": [],
      "source": [
        "def chat_gpt(prompt):\n",
        "    response = client.chat.completions.create(\n",
        "        model=\"gpt-3.5-turbo\",\n",
        "        messages=[{\"role\": \"user\", \"content\": prompt}]\n",
        "    )\n",
        "    return response.choices[0].message.content.strip()\n",
        "\n",
        "def classify_reviews(reviews):\n",
        "    \"\"\"\n",
        "    Classify customer reviews into categories using OpenAI's ChatGPT model.\n",
        "\n",
        "    Parameters:\n",
        "        reviews (list): A list of customer review strings.\n",
        "\n",
        "    Returns:\n",
        "        dict: A dictionary mapping reviews to their categories.\n",
        "    \"\"\"\n",
        "    categories = [\"Delivery Issues\", \"Product Quality\", \"General Feedback\"]\n",
        "\n",
        "    # Prompt template\n",
        "    prompt_template = (\n",
        "        \"Classify the following customer review into one of the categories: Delivery Issues, Product Quality, or General Feedback.\\n\"\n",
        "        \"Categories:\\n\"\n",
        "        \"- Delivery Issues: Problems related to delivery times, tracking, or missing items.\\n\"\n",
        "        \"- Product Quality: Issues with the condition, appearance, or functionality of the product.\\n\"\n",
        "        \"- General Feedback: General comments, praise, or unrelated observations.\\n\\n\"\n",
        "        \"Review: {review}\\n\"\n",
        "        \"Category:\"\n",
        "    )\n",
        "\n",
        "    results = {}\n",
        "    for review in reviews:\n",
        "        # Create the prompt for the current review\n",
        "        prompt = prompt_template.format(review=review)\n",
        "\n",
        "        # Query the ChatGPT model\n",
        "        category = chat_gpt(prompt)\n",
        "        results[review] = category\n",
        "\n",
        "    return results"
      ]
    },
    {
      "cell_type": "code",
      "source": [
        "# Example reviews\n",
        "reviews = [\n",
        "    \"I ordered a book two weeks ago, and it still hasn't arrived. The tracking information is not updating either.\",\n",
        "    \"The book I received was damaged. The cover had scratches, and some pages were torn.\",\n",
        "    \"Your collection is fantastic! I found some rare books I've been searching for a long time. Keep it up!\",\n",
        "]\n",
        "\n",
        "# Classify the reviews\n",
        "classified_reviews = classify_reviews(reviews)\n",
        "\n",
        "# Print the results\n",
        "for review, category in classified_reviews.items():\n",
        "    print(f\"Review: {review}\\nCategory: {category}\\n\")\n"
      ],
      "metadata": {
        "colab": {
          "base_uri": "https://localhost:8080/"
        },
        "id": "XZ5o2bePwja4",
        "outputId": "e3f17bbb-2210-48f2-e6c4-e8f66987c3e9"
      },
      "execution_count": 17,
      "outputs": [
        {
          "output_type": "stream",
          "name": "stdout",
          "text": [
            "Review: I ordered a book two weeks ago, and it still hasn't arrived. The tracking information is not updating either.\n",
            "Category: Delivery Issues\n",
            "\n",
            "Review: The book I received was damaged. The cover had scratches, and some pages were torn.\n",
            "Category: Product Quality\n",
            "\n",
            "Review: Your collection is fantastic! I found some rare books I've been searching for a long time. Keep it up!\n",
            "Category: General Feedback\n",
            "\n"
          ]
        }
      ]
    },
    {
      "cell_type": "markdown",
      "source": [
        "**Task 2 : Generate Personalized Email Responses**"
      ],
      "metadata": {
        "id": "kPiTqhcQyNSz"
      }
    },
    {
      "cell_type": "code",
      "source": [
        "def generate_email_response(complaint, tone):\n",
        "    \"\"\"\n",
        "    Generate a personalized email response to a customer complaint using OpenAI's ChatGPT model.\n",
        "\n",
        "    Parameters:\n",
        "        complaint (str): The customer's complaint text.\n",
        "        tone (str): The desired tone of the response (e.g., \"casual\", \"formal\").\n",
        "\n",
        "    Returns:\n",
        "        str: The generated email response.\n",
        "    \"\"\"\n",
        "    # Prompt template for email response\n",
        "    prompt_template = (\n",
        "        \"Write an email response in a {tone} tone to the following customer complaint:\\n\"\n",
        "        \"\\nComplaint:\\n{complaint}\\n\\n\"\n",
        "        \"Ensure the tone matches the description (e.g., casual and empathetic or formal and concise).\"\n",
        "    )\n",
        "\n",
        "    # Format the prompt with the complaint and tone\n",
        "    prompt = prompt_template.format(complaint=complaint, tone=tone)\n",
        "\n",
        "    # Query the ChatGPT model\n",
        "    response = chat_gpt(prompt)\n",
        "    return response"
      ],
      "metadata": {
        "id": "5b9Lt0b9yT5L"
      },
      "execution_count": 19,
      "outputs": []
    },
    {
      "cell_type": "code",
      "source": [
        "# Example complaint\n",
        "complaint = (\n",
        "    \"I purchased a laptop from your store, and it stopped working within a week. I tried reaching out to your support team, but nobody responded. Please help!\"\n",
        ")\n",
        "\n",
        "# Generate responses in different tones\n",
        "casual_response = generate_email_response(complaint, \"casual and empathetic\")\n",
        "formal_response = generate_email_response(complaint, \"formal and concise\")\n",
        "\n",
        "print(\"Casual Response:\\n\", casual_response, \"\\n\")\n",
        "print(\"Formal Response:\\n\", formal_response)\n"
      ],
      "metadata": {
        "colab": {
          "base_uri": "https://localhost:8080/"
        },
        "id": "VGxT-69szBCX",
        "outputId": "f910289f-a7de-4e59-8b18-404e1d82c947"
      },
      "execution_count": 20,
      "outputs": [
        {
          "output_type": "stream",
          "name": "stdout",
          "text": [
            "Casual Response:\n",
            " Subject: Re: Laptop Issues - We've Got You Covered! \n",
            "\n",
            "Hey there, \n",
            "\n",
            "I'm so sorry to hear about the issue you've been having with your laptop. That's definitely not what we want for our customers. I completely understand how frustrating it must be to not get a response from our support team - that's on us, and we're working to fix it.\n",
            "\n",
            "I've gone ahead and escalated your case to our highest priority level, and someone from our team will be reaching out to you ASAP to get this sorted out. We'll make sure you're taken care of and have a fully functioning laptop in no time.\n",
            "\n",
            "Thanks for bringing this to our attention, and please accept our apologies for any inconvenience this has caused. \n",
            "\n",
            "Take care, \n",
            "\n",
            "[Your Name]\n",
            "Customer Support Team \n",
            "\n",
            "Formal Response:\n",
            " Dear [Customer],\n",
            "\n",
            "We apologize for the inconvenience you have experienced with your recent purchase. Please accept our sincerest apologies for the delay in response from our support team.\n",
            "\n",
            "To address this issue promptly, we have initiated an investigation into the non-functioning laptop you purchased. Our team will be in touch with you shortly to provide a resolution.\n",
            "\n",
            "Thank you for bringing this matter to our attention. We appreciate your patience and understanding.\n",
            "\n",
            "Best regards,\n",
            "[Your Name]\n",
            "[Your Title]\n",
            "[Your Company]\n"
          ]
        }
      ]
    },
    {
      "cell_type": "code",
      "source": [
        "def generate_multiple_email_responses(complaint):\n",
        "    \"\"\"\n",
        "    Generate email responses in multiple tones for a given customer complaint.\n",
        "\n",
        "    Parameters:\n",
        "        complaint (str): The customer's complaint text.\n",
        "\n",
        "    Returns:\n",
        "        dict: A dictionary of responses for each tone.\n",
        "    \"\"\"\n",
        "    tones = [\n",
        "        \"casual and empathetic\",\n",
        "        \"formal and concise\",\n",
        "        \"apologetic and reassuring\",\n",
        "        \"professional and solution-oriented\",\n",
        "        \"friendly and helpful\"\n",
        "    ]\n",
        "\n",
        "    responses = {}\n",
        "    for tone in tones:\n",
        "        responses[tone] = generate_email_response(complaint, tone)\n",
        "\n",
        "    return responses"
      ],
      "metadata": {
        "id": "oKhhLgtTzaA3"
      },
      "execution_count": 21,
      "outputs": []
    },
    {
      "cell_type": "code",
      "source": [
        "# Generate responses in different tones\n",
        "responses = generate_multiple_email_responses(complaint)\n",
        "\n",
        "# Print all responses\n",
        "for tone, response in responses.items():\n",
        "    print(f\"Tone: {tone}\\nResponse:\\n{response}\\n\")\n"
      ],
      "metadata": {
        "colab": {
          "base_uri": "https://localhost:8080/"
        },
        "id": "Ce1cK92BzeOO",
        "outputId": "ad69d052-7eb8-4c07-9027-b04576859576"
      },
      "execution_count": 22,
      "outputs": [
        {
          "output_type": "stream",
          "name": "stdout",
          "text": [
            "Tone: casual and empathetic\n",
            "Response:\n",
            "Hi [Customer's Name],\n",
            "\n",
            "I'm so sorry to hear about the issues you've been experiencing with the laptop you purchased from our store. That's definitely not the kind of service we aim to provide.\n",
            "\n",
            "I apologize for the lack of response from our support team. Can you please provide me with your purchase details so I can look into this for you right away? We want to make sure this situation is resolved promptly and to your satisfaction.\n",
            "\n",
            "Thank you for bringing this to our attention, and we appreciate your patience as we work to fix this issue for you.\n",
            "\n",
            "Best regards,\n",
            "[Your Name]\n",
            "[Your Title]\n",
            "[Company Name]\n",
            "\n",
            "Tone: formal and concise\n",
            "Response:\n",
            "Dear [Customer],\n",
            "\n",
            "I apologize for the inconvenience you experienced with your laptop purchased from our store. Please provide me with your order details, and I will ensure that our support team contacts you promptly to address the issue and provide a resolution.\n",
            "\n",
            "Thank you for your patience and understanding.\n",
            "\n",
            "Sincerely,\n",
            "[Your Name]\n",
            "[Store Name] Support Team\n",
            "\n",
            "Tone: apologetic and reassuring\n",
            "Response:\n",
            "Dear [Customer],\n",
            "\n",
            "I apologize for the inconvenience you have experienced with your laptop and the lack of response from our support team. I understand how frustrating it can be to have a purchase stop working so soon after buying it.\n",
            "\n",
            "I assure you that we take these matters seriously and will do our best to resolve this issue for you as quickly as possible. Please provide me with your order details, and we will work on getting this situation resolved promptly.\n",
            "\n",
            "Thank you for bringing this to our attention, and I appreciate your patience as we work to rectify this situation.\n",
            "\n",
            "Sincerely,\n",
            "[Your Name]\n",
            "\n",
            "Tone: professional and solution-oriented\n",
            "Response:\n",
            "Dear [Customer],\n",
            "\n",
            "I apologize for the inconvenience you have experienced with your laptop and our support team. We strive to provide the best customer service possible and it is disappointing to hear that we fell short in this instance.\n",
            "\n",
            "I understand the frustration of not receiving a response from our support team and I would like to assist you in resolving this issue promptly. Please provide me with your order details and any relevant information regarding the problem with your laptop. I will personally escalate this matter to ensure that you receive the necessary support and assistance.\n",
            "\n",
            "Thank you for bringing this to our attention and I appreciate your patience as we work towards resolving this issue.\n",
            "\n",
            "Best regards,\n",
            "[Your Name]\n",
            "\n",
            "Tone: friendly and helpful\n",
            "Response:\n",
            "Dear Customer,\n",
            "\n",
            "Thank you for bringing this issue to our attention. I am truly sorry to hear that your laptop stopped working and that you did not receive a response from our support team. \n",
            "\n",
            "Please provide me with your order number and any relevant details about the problem you are experiencing. I will do my best to expedite the troubleshooting process and get you a resolution as soon as possible. \n",
            "\n",
            "I apologize for any inconvenience this has caused and appreciate your patience as we work to resolve this matter swiftly.\n",
            "\n",
            "Thank you for your understanding.\n",
            "\n",
            "Best regards,\n",
            "\n",
            "[Your Name]  \n",
            "Customer Service Team  \n",
            "[Company Name]\n",
            "\n"
          ]
        }
      ]
    },
    {
      "cell_type": "markdown",
      "source": [
        "**Task 3: Structured Output**\n"
      ],
      "metadata": {
        "id": "N-RxJr0Czh9i"
      }
    },
    {
      "cell_type": "code",
      "source": [
        "def extract_details_from_review(review):\n",
        "    # Define the prompt for extracting details\n",
        "    prompt = f\"\"\"\n",
        "    Extract the following details from the given review and structure them as JSON:\n",
        "    Review: \"{review}\"\n",
        "    Required JSON Format:\n",
        "    {{\n",
        "        \"product\": \"\",\n",
        "        \"operating_system\": \"\",\n",
        "        \"issue_description\": \"\",\n",
        "        \"order_number\": \"\"\n",
        "    }}\n",
        "    Ensure all fields are filled with the extracted information or left blank if not found.\n",
        "    \"\"\"\n",
        "\n",
        "    # Use the updated function to get a response from GPT model\n",
        "    response_text = chat_gpt(prompt)\n",
        "\n",
        "    return response_text"
      ],
      "metadata": {
        "id": "0MPgkS_OzrQO"
      },
      "execution_count": 23,
      "outputs": []
    },
    {
      "cell_type": "code",
      "source": [
        "# Demonstration\n",
        "review_text = \"\"\"\n",
        "I recently bought a gaming mouse from your website. I use Windows 11, and the\n",
        "mouse disconnects randomly during use. My order number is ORD123456. Please\n",
        "assist.\n",
        "\"\"\"\n",
        "\n",
        "structured_json = extract_details_from_review(review_text)\n",
        "print(structured_json)"
      ],
      "metadata": {
        "colab": {
          "base_uri": "https://localhost:8080/"
        },
        "id": "Y3nl1T870dTO",
        "outputId": "64e1ef56-0df9-43b8-bab3-91724d827e2b"
      },
      "execution_count": 24,
      "outputs": [
        {
          "output_type": "stream",
          "name": "stdout",
          "text": [
            "{\n",
            "        \"product\": \"gaming mouse\",\n",
            "        \"operating_system\": \"Windows 11\",\n",
            "        \"issue_description\": \"mouse disconnects randomly during use\",\n",
            "        \"order_number\": \"ORD123456\"\n",
            "    }\n"
          ]
        }
      ]
    },
    {
      "cell_type": "markdown",
      "source": [
        "**Task 4: Create Product Names**"
      ],
      "metadata": {
        "id": "XL3SLxNe0sbK"
      }
    },
    {
      "cell_type": "code",
      "source": [
        "def generate_product_names(temperature):\n",
        "    prompt = \"Generate 5 creative product names for a smart home assistant.\"\n",
        "\n",
        "    response = client.chat.completions.create(\n",
        "        model=\"gpt-3.5-turbo\",\n",
        "        messages=[{\"role\": \"user\", \"content\": prompt}],\n",
        "        temperature=temperature\n",
        "    )\n",
        "\n",
        "    return response.choices[0].message.content.strip()\n"
      ],
      "metadata": {
        "id": "6zi3Oguk0x1C"
      },
      "execution_count": 25,
      "outputs": []
    },
    {
      "cell_type": "code",
      "source": [
        "# Generate product names with low temperature (deterministic output)\n",
        "low_temperature_names = generate_product_names(temperature=0)\n",
        "\n",
        "# Generate product names with high temperature (creative and varied output)\n",
        "high_temperature_names = generate_product_names(temperature=1)\n",
        "\n",
        "print(\"Low Temperature (Deterministic) Names:\\n\", low_temperature_names)\n",
        "print(\"\\nHigh Temperature (Creative) Names:\\n\", high_temperature_names)"
      ],
      "metadata": {
        "colab": {
          "base_uri": "https://localhost:8080/"
        },
        "id": "wcM4U2oA1Eii",
        "outputId": "b7cf2111-8bad-480a-bd35-930e2f2240a6"
      },
      "execution_count": 26,
      "outputs": [
        {
          "output_type": "stream",
          "name": "stdout",
          "text": [
            "Low Temperature (Deterministic) Names:\n",
            " 1. HomeGenie\n",
            "2. SmartPal\n",
            "3. HouseWhiz\n",
            "4. IntelliHome\n",
            "5. NestMate\n",
            "\n",
            "High Temperature (Creative) Names:\n",
            " 1. HomeMate\n",
            "2. IntelliHome\n",
            "3. SmartSense\n",
            "4. EchoSync\n",
            "5. CasaAI\n"
          ]
        }
      ]
    },
    {
      "cell_type": "markdown",
      "source": [
        "**Bonus Task**"
      ],
      "metadata": {
        "id": "DMj06_VN1VSp"
      }
    },
    {
      "cell_type": "code",
      "source": [
        "def generate_marketing_ad():\n",
        "    # Improved prompt with specific details\n",
        "    prompt = \"\"\"\n",
        "    Write a marketing ad for a smart home device aimed at busy professionals.\n",
        "    The device offers key features such as voice control, energy efficiency, and remote access via a mobile app.\n",
        "    Highlight how the product helps users save time and energy, with a focus on hands-free operation and seamless integration into their daily routines.\n",
        "    Emphasize the peace of mind and productivity benefits. End the ad with a compelling call-to-action, encouraging busy professionals to upgrade their home to a smarter, more efficient lifestyle today.\n",
        "    \"\"\"\n",
        "    response = client.chat.completions.create(\n",
        "        model=\"gpt-3.5-turbo\",\n",
        "        messages=[{\"role\": \"user\", \"content\": prompt}]\n",
        "    )\n",
        "\n",
        "    # Extract and return the ad text\n",
        "    return response.choices[0].message.content.strip()"
      ],
      "metadata": {
        "id": "7Gy23LTM1Y5p"
      },
      "execution_count": 29,
      "outputs": []
    },
    {
      "cell_type": "code",
      "source": [
        "# Generate the marketing ad\n",
        "marketing_ad = generate_marketing_ad()\n",
        "print(marketing_ad)"
      ],
      "metadata": {
        "colab": {
          "base_uri": "https://localhost:8080/"
        },
        "id": "mnr1sYJz2X59",
        "outputId": "2df16813-127c-4971-d381-b81844a74e3a"
      },
      "execution_count": 30,
      "outputs": [
        {
          "output_type": "stream",
          "name": "stdout",
          "text": [
            "Are you a busy professional looking to streamline your daily routine and save time and energy? Look no further than our smart home device with voice control, energy efficiency, and remote access via a mobile app.\n",
            "\n",
            "Imagine coming home after a long day at work and being able to control your lights, thermostat, and more with just the sound of your voice. Our device seamlessly integrates into your daily routine, allowing for hands-free operation and maximizing productivity.\n",
            "\n",
            "With our smart home device, you can enjoy peace of mind knowing that your home is efficient and secure, even when you're away. Say goodbye to constantly worrying about forgetting to turn off lights or adjust the temperature – our device takes care of it all.\n",
            "\n",
            "Upgrade your home to a smarter, more efficient lifestyle today and experience the convenience and benefits for yourself. Don't wait any longer – take control of your busy schedule and elevate your living experience with our smart home device. Order now and start enjoying a more connected and efficient home today!\n"
          ]
        }
      ]
    }
  ]
}